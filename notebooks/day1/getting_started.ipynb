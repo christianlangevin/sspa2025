{
 "cells": [
  {
   "cell_type": "markdown",
   "metadata": {},
   "source": [
    "# Getting Started\n",
    "\n",
    "The objective of this notebook is to provide a live demonstration of Python basics.  Specifically, we will work through the following topics:\n",
    "\n",
    "* Python as a calculator\n",
    "* Variables, lists, tuples, dictionaries\n",
    "* Strings (don't forget f strings!)\n",
    "* File Paths\n",
    "* Reading and writing files\n",
    "* Loops and flow control\n",
    "* Functions\n",
    "* Classes"
   ]
  },
  {
   "cell_type": "code",
   "execution_count": null,
   "metadata": {
    "vscode": {
     "languageId": "plaintext"
    }
   },
   "outputs": [],
   "source": []
  },
  {
   "cell_type": "markdown",
   "metadata": {},
   "source": []
  }
 ],
 "metadata": {
  "language_info": {
   "name": "python"
  }
 },
 "nbformat": 4,
 "nbformat_minor": 2
}
