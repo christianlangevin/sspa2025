{
 "cells": [
  {
   "cell_type": "markdown",
   "id": "b00a82c9-d44b-4a9b-992c-aaaa411d0387",
   "metadata": {},
   "source": [
    "# Introductions\n",
    "\n",
    "## My background\n",
    "## What about you?\n",
    "* ### Can you tell me about your background?\n",
    "* ### What type of projects do you work on?\n",
    "* ### What is your experience with Python, MODFLOW, and FloPy?\n",
    "* ### What are you objectives for today and tomorrow?\n",
    "## What is Python?\n",
    "## My vision for this workshop\n"
   ]
  },
  {
   "cell_type": "code",
   "execution_count": null,
   "id": "f545019b-21b9-4591-a424-9733783c38c3",
   "metadata": {},
   "outputs": [],
   "source": []
  }
 ],
 "metadata": {
  "kernelspec": {
   "display_name": "Python 3 (ipykernel)",
   "language": "python",
   "name": "python3"
  },
  "language_info": {
   "codemirror_mode": {
    "name": "ipython",
    "version": 3
   },
   "file_extension": ".py",
   "mimetype": "text/x-python",
   "name": "python",
   "nbconvert_exporter": "python",
   "pygments_lexer": "ipython3",
   "version": "3.12.1"
  }
 },
 "nbformat": 4,
 "nbformat_minor": 5
}
