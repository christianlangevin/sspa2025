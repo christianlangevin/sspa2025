{
 "cells": [
  {
   "cell_type": "markdown",
   "id": "87d6553d",
   "metadata": {},
   "source": [
    "# Mount St. Helens Exercise\n",
    "\n",
    "Let's calculate the amount of material lost from Mt. St. Helens in the 1980 eruption. We have the before and after elevation arrays in the data folder noted in the next cell. We will need to load them up. \n",
    "- The before and after files are the same dimensions, but they have some zeros around the edges indicating \"nodata\" values. \n",
    "- Check to see - are the zeros in the same place in both arrays? (`np.where` and friends can help with that). \n",
    "- If there are no-data zeros in one array at a different location than the other array, what happens if you look at the difference?\n",
    "- assume each pixel is 25 x 25 feet and the elevation arrays are provided in meters to calculate a volumetric difference between before and after arrays."
   ]
  },
  {
   "cell_type": "code",
   "execution_count": 6,
   "id": "20a1e08c",
   "metadata": {},
   "outputs": [],
   "source": [
    "import pathlib as pl"
   ]
  },
  {
   "cell_type": "code",
   "execution_count": 7,
   "id": "e52248ba",
   "metadata": {},
   "outputs": [],
   "source": [
    "data_path = pl.Path(\"./data\")\n",
    "before_file = data_path / \"mt_st_helens_before.dat\"\n",
    "after_file = data_path / \"mt_st_helens_after.dat\""
   ]
  },
  {
   "cell_type": "code",
   "execution_count": null,
   "id": "6feffb1c",
   "metadata": {},
   "outputs": [],
   "source": []
  }
 ],
 "metadata": {
  "kernelspec": {
   "display_name": "sspa2025",
   "language": "python",
   "name": "python3"
  },
  "language_info": {
   "codemirror_mode": {
    "name": "ipython",
    "version": 3
   },
   "file_extension": ".py",
   "mimetype": "text/x-python",
   "name": "python",
   "nbconvert_exporter": "python",
   "pygments_lexer": "ipython3",
   "version": "3.13.7"
  }
 },
 "nbformat": 4,
 "nbformat_minor": 5
}
