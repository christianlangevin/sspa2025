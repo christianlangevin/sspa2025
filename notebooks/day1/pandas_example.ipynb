{
 "cells": [
  {
   "cell_type": "markdown",
   "id": "8da35269",
   "metadata": {},
   "source": [
    "# Pandas: Working with tabular data in Pandas"
   ]
  },
  {
   "cell_type": "markdown",
   "id": "adea9fbe",
   "metadata": {},
   "source": [
    "Pandas is a powerful, flexible and easy to use open source data analysis and manipulation tool. Pandas is commonly used for operations that would normally be done in a spreadsheet environment and includes powerful data analysis and manipulation tools.\n",
    "\n",
    "Let's begin by importing the libraries and setting our data path "
   ]
  },
  {
   "cell_type": "code",
   "execution_count": null,
   "id": "3b885ca2",
   "metadata": {},
   "outputs": [],
   "source": [
    "from pathlib import Path\n",
    "import numpy as np\n",
    "import matplotlib as mpl\n",
    "import matplotlib.pyplot as plt\n",
    "import pandas as pd\n",
    "import statsmodels.api as sm\n",
    "# from dataretrieval import nwis\n",
    "from matplotlib.backends.backend_pdf import PdfPages\n",
    "from scipy.signal import detrend\n",
    "\n",
    "data_path = Path(\"./data\")\n",
    "assert data_path.is_dir()"
   ]
  },
  {
   "cell_type": "markdown",
   "id": "f32f58cb",
   "metadata": {},
   "source": [
    "## Get site information data for part of the Russian River near Guerneville, CA from NWIS "
   ]
  },
  {
   "cell_type": "code",
   "execution_count": null,
   "id": "54ae9a40",
   "metadata": {},
   "outputs": [],
   "source": [
    "# bbox = (-123.10, 38.45, -122.90, 38.55)\n",
    "# info, metadata = nwis.get_info(bBox=[str(i) for i in bbox])\n",
    "# info\n",
    "# info.to_csv(data_path / \"site_info.csv\", index=False)\n",
    "# info.head()\n",
    "info = pd.read_csv(data_path / \"site_info.csv\")\n",
    "info"
   ]
  },
  {
   "cell_type": "markdown",
   "id": "0bc3b4d3",
   "metadata": {},
   "source": [
    "Wow that's a lot of gages in this location, let's info on all of them and then use this data to learn about pandas"
   ]
  },
  {
   "cell_type": "markdown",
   "id": "3740b558",
   "metadata": {},
   "source": [
    "The data returned to us from our NWIS query `info` was returned to us as pandas `DataFrame`. We'll be working with this to start learning about the basics of pandas."
   ]
  },
  {
   "cell_type": "markdown",
   "id": "ab43af55",
   "metadata": {},
   "source": [
    "## Viewing data in pandas\n",
    "\n",
    "Pandas has built in methods to inspect `DataFrame` objects. We'll look at a few handy methods:\n",
    "\n",
    "   - `.head()`: inspect the first few rows of data\n",
    "   - `.tail()`: inspect the last few rows of data\n",
    "   - `.index()`: show the row indexes\n",
    "   - `.columns()`: show the column names\n",
    "   - `.describe()`: statistically describe the data"
   ]
  },
  {
   "cell_type": "code",
   "execution_count": null,
   "id": "12384282",
   "metadata": {},
   "outputs": [],
   "source": [
    "info.head()"
   ]
  },
  {
   "cell_type": "code",
   "execution_count": null,
   "id": "fd42e690",
   "metadata": {},
   "outputs": [],
   "source": [
    "info.tail()"
   ]
  },
  {
   "cell_type": "code",
   "execution_count": null,
   "id": "40ec8e5e",
   "metadata": {},
   "outputs": [],
   "source": [
    "# print the index names\n",
    "print(info.index)"
   ]
  },
  {
   "cell_type": "code",
   "execution_count": null,
   "id": "7a1c0d8a",
   "metadata": {},
   "outputs": [],
   "source": [
    "# print the column names\n",
    "print(info.columns)\n",
    "\n",
    "# print the column names as a list\n",
    "print(list(info))"
   ]
  },
  {
   "cell_type": "markdown",
   "id": "2bff1bcf",
   "metadata": {},
   "source": [
    "The `describe()` method is only useful for numerical data. This example is does not have a lot of useful data for `describe()`, however we'll use it again later"
   ]
  },
  {
   "cell_type": "code",
   "execution_count": null,
   "id": "f86033a1",
   "metadata": {},
   "outputs": [],
   "source": [
    "info.describe()"
   ]
  },
  {
   "cell_type": "markdown",
   "id": "09d73a52",
   "metadata": {},
   "source": [
    "## Getting data from a pandas dataframe\n",
    "\n",
    "There are multiple methods to get data out of a pandas dataframe as either a \"series\", numpy array, or a list\n",
    "\n",
    "Let's start by getting data as a series using a few methods"
   ]
  },
  {
   "cell_type": "code",
   "execution_count": null,
   "id": "1e4d13e4",
   "metadata": {},
   "outputs": [],
   "source": [
    "# get a series of site numbers by key\n",
    "info[\"site_no\"]"
   ]
  },
  {
   "cell_type": "code",
   "execution_count": null,
   "id": "daff4fea",
   "metadata": {},
   "outputs": [],
   "source": [
    "# get station names by attribute\n",
    "info.station_nm"
   ]
  },
  {
   "cell_type": "markdown",
   "id": "5bbba79a",
   "metadata": {},
   "source": [
    "getting data from a dataframe as a numpy array can be accomplished by using `.values`"
   ]
  },
  {
   "cell_type": "code",
   "execution_count": null,
   "id": "d98d409c",
   "metadata": {},
   "outputs": [],
   "source": [
    "info.station_nm.values"
   ]
  },
  {
   "cell_type": "markdown",
   "id": "31def645",
   "metadata": {},
   "source": [
    "### Selection by position\n",
    "\n",
    "We can get data by position in the dataframe using the `.iloc` attribute "
   ]
  },
  {
   "cell_type": "code",
   "execution_count": null,
   "id": "730501c2",
   "metadata": {},
   "outputs": [],
   "source": [
    "info.iloc[0:2, 1:4]"
   ]
  },
  {
   "cell_type": "markdown",
   "id": "b4d7c291",
   "metadata": {},
   "source": [
    "### Selection by label\n",
    "\n",
    "Pandas allows the user to get data from the dataframe by index and column labels"
   ]
  },
  {
   "cell_type": "code",
   "execution_count": null,
   "id": "b430c660",
   "metadata": {},
   "outputs": [],
   "source": [
    "info.loc[0:3, [\"site_no\", \"station_nm\", \"site_tp_cd\"]]"
   ]
  },
  {
   "cell_type": "markdown",
   "id": "43700bbe",
   "metadata": {},
   "source": [
    "### Boolean indexing\n",
    "\n",
    "pandas dataframes supports boolean indexing that allows a user to create a new dataframe with only the data that meets a boolean condition defined by the user.\n",
    "\n",
    "Let's get a dataframe of only groundwater sites from the `info` dataframe"
   ]
  },
  {
   "cell_type": "code",
   "execution_count": null,
   "id": "24ea2d22",
   "metadata": {},
   "outputs": [],
   "source": [
    "dfgw = info[info[\"site_tp_cd\"] == \"GW\"]\n",
    "dfgw"
   ]
  },
  {
   "cell_type": "markdown",
   "id": "b55d5649",
   "metadata": {},
   "source": [
    "### Reading and writing data to `.csv` files\n",
    "\n",
    "Pandas has support to both read and write many types of files. For this example we are focusing on `.csv` files. For information on other file types that are supported see the [ten minutes to pandas](https://pandas.pydata.org/docs/user_guide/10min.html#importing-and-exporting-data) tutorial documentation"
   ]
  },
  {
   "cell_type": "markdown",
   "id": "8d69feb7",
   "metadata": {},
   "source": [
    "For this part we'll write a new `.csv` file of the groundwater sites that we found in NWIS using `to_csv()`.\n",
    "\n",
    "`to_csv()` has a bunch of handy options for writing to file. For this example, I'm going to drop the index column while writing by passing `index=False`"
   ]
  },
  {
   "cell_type": "code",
   "execution_count": null,
   "id": "ecb2281a",
   "metadata": {},
   "outputs": [],
   "source": [
    "csv_file = data_path / \"RussianRiverGWsites.csv\"\n",
    "dfgw.to_csv(csv_file, index=False)"
   ]
  }
 ],
 "metadata": {
  "kernelspec": {
   "display_name": "sspa2025",
   "language": "python",
   "name": "python3"
  },
  "language_info": {
   "codemirror_mode": {
    "name": "ipython",
    "version": 3
   },
   "file_extension": ".py",
   "mimetype": "text/x-python",
   "name": "python",
   "nbconvert_exporter": "python",
   "pygments_lexer": "ipython3",
   "version": "3.13.7"
  }
 },
 "nbformat": 4,
 "nbformat_minor": 5
}
