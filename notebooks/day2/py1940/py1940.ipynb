{
 "cells": [
  {
   "cell_type": "code",
   "execution_count": null,
   "id": "455730cc",
   "metadata": {},
   "outputs": [],
   "source": [
    "import contextily as cx\n",
    "import geopandas as gpd\n",
    "import matplotlib.pyplot as plt\n",
    "import py1940"
   ]
  },
  {
   "cell_type": "code",
   "execution_count": null,
   "id": "94bfb5fc",
   "metadata": {},
   "outputs": [],
   "source": [
    "mg_cutout = py1940.get_coarsened_modelgrid()\n",
    "mg_cutout.plot()"
   ]
  },
  {
   "cell_type": "code",
   "execution_count": null,
   "id": "f75c8934",
   "metadata": {},
   "outputs": [],
   "source": [
    "gdf = mg_cutout.geo_dataframe\n",
    "print(gdf.crs)"
   ]
  },
  {
   "cell_type": "code",
   "execution_count": null,
   "id": "c32d57da",
   "metadata": {},
   "outputs": [],
   "source": [
    "# gdf.explore()"
   ]
  },
  {
   "cell_type": "code",
   "execution_count": null,
   "id": "b9c03e03",
   "metadata": {},
   "outputs": [],
   "source": [
    "mg_isarm = py1940.get_isarm_modelgrid()\n",
    "mg_isarm.plot()"
   ]
  },
  {
   "cell_type": "code",
   "execution_count": null,
   "id": "1c8aaba6",
   "metadata": {},
   "outputs": [],
   "source": [
    "mg_isarm = py1940.get_isarm_modelgrid()\n",
    "x0, x1, y0, y1 = mg_isarm.extent\n",
    "\n",
    "from shapely.geometry import Point\n",
    "points = [(x0, y0), (x1, y0), (x1, y1), (x0, y1), (x0, y0)]\n",
    "points = [Point(x, y) for x, y in points]\n",
    "gdf = gpd.GeoDataFrame(geometry=points)\n",
    "gdf.crs = py1940.get_crs()\n",
    "\n",
    "ax = gdf.plot(figsize=(10, 10), alpha=0.5, edgecolor=\"k\")\n",
    "mg_isarm.plot(ax=ax, facecolor=\"gray\", edgecolor=\"gray\", alpha=0.5, lw=0.1)\n",
    "cx.add_basemap(ax, crs=gdf.crs)"
   ]
  },
  {
   "cell_type": "code",
   "execution_count": null,
   "id": "f6a6f12e",
   "metadata": {},
   "outputs": [],
   "source": [
    "ax = gdf.plot(figsize=(10, 10), alpha=0.5, facecolor=\"red\", edgecolor=\"yellow\", lw=0.1)\n",
    "# pmv = flopy.plot.PlotMapView(modelgrid=modelgrid, ax=ax)\n",
    "# pmv.plot_inactive(ibound=gwf.dis.idomain.array[1], alpha=0.25)\n",
    "source_url = \"https://services.arcgisonline.com/ArcGIS/rest/services/World_Imagery/MapServer/tile/{z}/{y}/{x}\"\n",
    "# source_url = None\n",
    "cx.add_basemap(ax, crs=gdf.crs, source=source_url)"
   ]
  },
  {
   "cell_type": "code",
   "execution_count": null,
   "id": "ae03dd30",
   "metadata": {},
   "outputs": [],
   "source": []
  }
 ],
 "metadata": {
  "kernelspec": {
   "display_name": "gra25flopy",
   "language": "python",
   "name": "python3"
  },
  "language_info": {
   "codemirror_mode": {
    "name": "ipython",
    "version": 3
   },
   "file_extension": ".py",
   "mimetype": "text/x-python",
   "name": "python",
   "nbconvert_exporter": "python",
   "pygments_lexer": "ipython3",
   "version": "3.13.5"
  }
 },
 "nbformat": 4,
 "nbformat_minor": 5
}
